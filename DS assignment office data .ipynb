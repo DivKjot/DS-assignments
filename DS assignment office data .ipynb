{
 "cells": [
  {
   "cell_type": "markdown",
   "id": "dd265fa0",
   "metadata": {},
   "source": [
    "# Office Supplies Data Analysis"
   ]
  },
  {
   "cell_type": "code",
   "execution_count": 1,
   "id": "917d9edd",
   "metadata": {},
   "outputs": [],
   "source": [
    "import numpy as np\n",
    "import pandas as pd\n",
    "import matplotlib.pyplot as plt\n",
    "import seaborn as sns\n",
    "# %matplotlib inline"
   ]
  },
  {
   "cell_type": "code",
   "execution_count": 2,
   "id": "35bea799",
   "metadata": {},
   "outputs": [
    {
     "data": {
      "text/html": [
       "<div>\n",
       "<style scoped>\n",
       "    .dataframe tbody tr th:only-of-type {\n",
       "        vertical-align: middle;\n",
       "    }\n",
       "\n",
       "    .dataframe tbody tr th {\n",
       "        vertical-align: top;\n",
       "    }\n",
       "\n",
       "    .dataframe thead th {\n",
       "        text-align: right;\n",
       "    }\n",
       "</style>\n",
       "<table border=\"1\" class=\"dataframe\">\n",
       "  <thead>\n",
       "    <tr style=\"text-align: right;\">\n",
       "      <th></th>\n",
       "      <th>OrderDate</th>\n",
       "      <th>Region</th>\n",
       "      <th>Rep</th>\n",
       "      <th>Item</th>\n",
       "      <th>Units</th>\n",
       "      <th>Unit Price</th>\n",
       "    </tr>\n",
       "  </thead>\n",
       "  <tbody>\n",
       "    <tr>\n",
       "      <th>0</th>\n",
       "      <td>04-Jul-14</td>\n",
       "      <td>East</td>\n",
       "      <td>Richard</td>\n",
       "      <td>Pen Set</td>\n",
       "      <td>62</td>\n",
       "      <td>4.99</td>\n",
       "    </tr>\n",
       "    <tr>\n",
       "      <th>1</th>\n",
       "      <td>12-Jul-14</td>\n",
       "      <td>East</td>\n",
       "      <td>Nick</td>\n",
       "      <td>Binder</td>\n",
       "      <td>29</td>\n",
       "      <td>1.99</td>\n",
       "    </tr>\n",
       "    <tr>\n",
       "      <th>2</th>\n",
       "      <td>21-Jul-14</td>\n",
       "      <td>Central</td>\n",
       "      <td>Morgan</td>\n",
       "      <td>Pen Set</td>\n",
       "      <td>55</td>\n",
       "      <td>12.49</td>\n",
       "    </tr>\n",
       "    <tr>\n",
       "      <th>3</th>\n",
       "      <td>29-Jul-14</td>\n",
       "      <td>East</td>\n",
       "      <td>Susan</td>\n",
       "      <td>Binder</td>\n",
       "      <td>81</td>\n",
       "      <td>19.99</td>\n",
       "    </tr>\n",
       "    <tr>\n",
       "      <th>4</th>\n",
       "      <td>07-Aug-14</td>\n",
       "      <td>Central</td>\n",
       "      <td>Matthew</td>\n",
       "      <td>Pen Set</td>\n",
       "      <td>42</td>\n",
       "      <td>23.95</td>\n",
       "    </tr>\n",
       "  </tbody>\n",
       "</table>\n",
       "</div>"
      ],
      "text/plain": [
       "   OrderDate   Region      Rep     Item  Units  Unit Price\n",
       "0  04-Jul-14     East  Richard  Pen Set     62        4.99\n",
       "1  12-Jul-14     East     Nick   Binder     29        1.99\n",
       "2  21-Jul-14  Central   Morgan  Pen Set     55       12.49\n",
       "3  29-Jul-14     East    Susan   Binder     81       19.99\n",
       "4  07-Aug-14  Central  Matthew  Pen Set     42       23.95"
      ]
     },
     "execution_count": 2,
     "metadata": {},
     "output_type": "execute_result"
    }
   ],
   "source": [
    "off_data = pd.read_csv(r\"C:\\Users\\lenovo\\Downloads\\DS-Assignment Dataset and instructions\\DS-Assignment Dataset and instructions\\P2- OfficeSupplies Data - Copy.csv\")\n",
    "off_data.head()"
   ]
  },
  {
   "cell_type": "code",
   "execution_count": 3,
   "id": "a2ea00f3",
   "metadata": {},
   "outputs": [
    {
     "name": "stdout",
     "output_type": "stream",
     "text": [
      "OrderDate      object\n",
      "Region         object\n",
      "Rep            object\n",
      "Item           object\n",
      "Units           int64\n",
      "Unit Price    float64\n",
      "dtype: object\n"
     ]
    }
   ],
   "source": [
    "print(off_data.dtypes)"
   ]
  },
  {
   "cell_type": "code",
   "execution_count": 4,
   "id": "609b7455",
   "metadata": {},
   "outputs": [
    {
     "data": {
      "text/plain": [
       "(43, 6)"
      ]
     },
     "execution_count": 4,
     "metadata": {},
     "output_type": "execute_result"
    }
   ],
   "source": [
    "off_data.shape"
   ]
  },
  {
   "cell_type": "markdown",
   "id": "12d46634",
   "metadata": {},
   "source": [
    "# Sales Analysis"
   ]
  },
  {
   "cell_type": "markdown",
   "id": "2292a495",
   "metadata": {},
   "source": [
    "Sales for products"
   ]
  },
  {
   "cell_type": "code",
   "execution_count": 5,
   "id": "04629770",
   "metadata": {},
   "outputs": [
    {
     "data": {
      "text/plain": [
       "0     309.38\n",
       "1      57.71\n",
       "2     686.95\n",
       "3    1619.19\n",
       "4    1005.90\n",
       "Name: Sales, dtype: float64"
      ]
     },
     "execution_count": 5,
     "metadata": {},
     "output_type": "execute_result"
    }
   ],
   "source": [
    "off_data[\"Sales\"] = off_data[\"Units\"]*off_data[\"Unit Price\"]\n",
    "off_data[\"Sales\"].head()"
   ]
  },
  {
   "cell_type": "markdown",
   "id": "574fd73e",
   "metadata": {},
   "source": [
    "- What are the total sales for each product category?"
   ]
  },
  {
   "cell_type": "code",
   "execution_count": 6,
   "id": "2ac7caf0",
   "metadata": {},
   "outputs": [
    {
     "data": {
      "text/plain": [
       "Item\n",
       "Binder     9577.65\n",
       "Desk       1700.00\n",
       "Pen        2045.22\n",
       "Pen Set    4169.87\n",
       "Pencil     2135.14\n",
       "Name: Sales, dtype: float64"
      ]
     },
     "execution_count": 6,
     "metadata": {},
     "output_type": "execute_result"
    }
   ],
   "source": [
    "sales_by_item = off_data.groupby(\"Item\")[\"Sales\"].sum()\n",
    "sales_by_item"
   ]
  },
  {
   "cell_type": "markdown",
   "id": "d26b5015",
   "metadata": {},
   "source": [
    "- Which product category has the highest sales?"
   ]
  },
  {
   "cell_type": "code",
   "execution_count": 7,
   "id": "bba93367",
   "metadata": {},
   "outputs": [],
   "source": [
    "highest_sales_Item = sales_by_item.idxmax()\n",
    "highest_sales_amount = sales_by_item.max()"
   ]
  },
  {
   "cell_type": "code",
   "execution_count": 8,
   "id": "5c30a206",
   "metadata": {},
   "outputs": [
    {
     "name": "stdout",
     "output_type": "stream",
     "text": [
      "Item with highest sales is Binder with sales amount = 9577.65\n"
     ]
    }
   ],
   "source": [
    "print(\"Item with highest sales is\",highest_sales_Item,\"with sales amount =\",highest_sales_amount)"
   ]
  },
  {
   "cell_type": "markdown",
   "id": "ba8ec5f3",
   "metadata": {},
   "source": [
    "   - Identify the top 10 best-selling products."
   ]
  },
  {
   "cell_type": "code",
   "execution_count": 9,
   "id": "ca3f4d59",
   "metadata": {},
   "outputs": [
    {
     "data": {
      "text/plain": [
       "5"
      ]
     },
     "execution_count": 9,
     "metadata": {},
     "output_type": "execute_result"
    }
   ],
   "source": [
    "no_of_item = off_data[\"Item\"].nunique()\n",
    "no_of_item"
   ]
  },
  {
   "cell_type": "code",
   "execution_count": 10,
   "id": "c86c6a74",
   "metadata": {},
   "outputs": [
    {
     "data": {
      "text/plain": [
       "Item\n",
       "Binder     9577.65\n",
       "Pen Set    4169.87\n",
       "Pencil     2135.14\n",
       "Name: Sales, dtype: float64"
      ]
     },
     "execution_count": 10,
     "metadata": {},
     "output_type": "execute_result"
    }
   ],
   "source": [
    "top_3_item_sale = sales_by_item.nlargest(3)\n",
    "top_3_item_sale"
   ]
  },
  {
   "cell_type": "markdown",
   "id": "74e63eef",
   "metadata": {},
   "source": [
    "# Customer Analysis"
   ]
  },
  {
   "cell_type": "markdown",
   "id": "bf4527bf",
   "metadata": {},
   "source": [
    "   - Who are the top 10 customers by sales?"
   ]
  },
  {
   "cell_type": "code",
   "execution_count": 11,
   "id": "8d34bfd9",
   "metadata": {},
   "outputs": [
    {
     "data": {
      "text/plain": [
       "Rep\n",
       "Alex       2812.19\n",
       "Bill       1749.87\n",
       "James      1283.61\n",
       "Matthew    3109.44\n",
       "Morgan     1387.77\n",
       "Nick        536.75\n",
       "Rachel      438.37\n",
       "Richard    2363.04\n",
       "Smith      1641.43\n",
       "Susan      3102.30\n",
       "Thomas     1203.11\n",
       "Name: Sales, dtype: float64"
      ]
     },
     "execution_count": 11,
     "metadata": {},
     "output_type": "execute_result"
    }
   ],
   "source": [
    "Cust_by_sale = off_data.groupby(\"Rep\")[\"Sales\"].sum()\n",
    "Cust_by_sale"
   ]
  },
  {
   "cell_type": "code",
   "execution_count": 12,
   "id": "a1848f5e",
   "metadata": {},
   "outputs": [
    {
     "data": {
      "text/plain": [
       "Rep\n",
       "Matthew    3109.44\n",
       "Susan      3102.30\n",
       "Alex       2812.19\n",
       "Richard    2363.04\n",
       "Bill       1749.87\n",
       "Smith      1641.43\n",
       "Morgan     1387.77\n",
       "James      1283.61\n",
       "Thomas     1203.11\n",
       "Nick        536.75\n",
       "Name: Sales, dtype: float64"
      ]
     },
     "execution_count": 12,
     "metadata": {},
     "output_type": "execute_result"
    }
   ],
   "source": [
    "top_10_cust = Cust_by_sale.nlargest(10)\n",
    "top_10_cust"
   ]
  },
  {
   "cell_type": "markdown",
   "id": "91453739",
   "metadata": {},
   "source": [
    "   - What is the total number of unique customers?"
   ]
  },
  {
   "cell_type": "code",
   "execution_count": 13,
   "id": "5557b18f",
   "metadata": {},
   "outputs": [
    {
     "data": {
      "text/plain": [
       "11"
      ]
     },
     "execution_count": 13,
     "metadata": {},
     "output_type": "execute_result"
    }
   ],
   "source": [
    "unique_cust = off_data[\"Rep\"].nunique()\n",
    "unique_cust"
   ]
  },
  {
   "cell_type": "markdown",
   "id": "c07c6a9c",
   "metadata": {},
   "source": [
    "- Analyze customer purchase frequency."
   ]
  },
  {
   "cell_type": "code",
   "execution_count": 14,
   "id": "71a6c4ec",
   "metadata": {},
   "outputs": [
    {
     "data": {
      "text/plain": [
       "Richard    8\n",
       "Bill       5\n",
       "Alex       5\n",
       "Matthew    4\n",
       "James      4\n",
       "Rachel     4\n",
       "Morgan     3\n",
       "Susan      3\n",
       "Smith      3\n",
       "Nick       2\n",
       "Thomas     2\n",
       "Name: Rep, dtype: int64"
      ]
     },
     "execution_count": 14,
     "metadata": {},
     "output_type": "execute_result"
    }
   ],
   "source": [
    "cust_purchase_frequency = off_data['Rep'].value_counts()\n",
    "cust_purchase_frequency"
   ]
  },
  {
   "cell_type": "markdown",
   "id": "8cb0e232",
   "metadata": {},
   "source": [
    "# Time Series Analysis"
   ]
  },
  {
   "cell_type": "markdown",
   "id": "973e7bf6",
   "metadata": {},
   "source": [
    "   - What are the monthly sales trends over the past year?"
   ]
  },
  {
   "cell_type": "code",
   "execution_count": 15,
   "id": "35c7d640",
   "metadata": {},
   "outputs": [],
   "source": [
    "off_data[\"OrderDate\"] = pd.to_datetime(off_data[\"OrderDate\"])\n",
    "monthly_sales_trends = off_data.set_index('OrderDate').resample('M')[\"Sales\"].sum()"
   ]
  },
  {
   "cell_type": "code",
   "execution_count": 16,
   "id": "7e87a410",
   "metadata": {},
   "outputs": [
    {
     "data": {
      "text/plain": [
       "OrderDate\n",
       "2014-07-31    2673.23\n",
       "2014-08-31    2005.55\n",
       "2014-09-30     666.11\n",
       "2014-10-31    1984.57\n",
       "2014-11-30     833.78\n",
       "2014-12-31    3288.47\n",
       "2015-01-31    1602.09\n",
       "2015-02-28    2044.33\n",
       "2015-03-31     556.87\n",
       "2015-04-30    1059.03\n",
       "2015-05-31    1300.35\n",
       "2015-06-30    1613.50\n",
       "Freq: M, Name: Sales, dtype: float64"
      ]
     },
     "execution_count": 16,
     "metadata": {},
     "output_type": "execute_result"
    }
   ],
   "source": [
    "monthly_sales_trends"
   ]
  },
  {
   "cell_type": "code",
   "execution_count": 17,
   "id": "8428ffaf",
   "metadata": {},
   "outputs": [
    {
     "data": {
      "image/png": "[encoded data removed]",
      "text/plain": [
       "<Figure size 640x480 with 1 Axes>"
      ]
     },
     "metadata": {},
     "output_type": "display_data"
    }
   ],
   "source": [
    "monthly_sales_trends.plot()\n",
    "\n",
    "plt.xlabel('OrderDate')\n",
    "plt.ylabel('Sales')\n",
    "plt.title('Monthly Sales Trends')\n",
    "\n",
    "plt.show()"
   ]
  },
  {
   "cell_type": "markdown",
   "id": "844d833f",
   "metadata": {},
   "source": [
    "# Geographical Analysis"
   ]
  },
  {
   "cell_type": "markdown",
   "id": "2c0021a6",
   "metadata": {},
   "source": [
    "- Which regions generate the most sales?"
   ]
  },
  {
   "cell_type": "code",
   "execution_count": 18,
   "id": "72a824a1",
   "metadata": {},
   "outputs": [
    {
     "data": {
      "text/plain": [
       "Region\n",
       "Central    11139.07\n",
       "East        6002.09\n",
       "West        2486.72\n",
       "Name: Sales, dtype: float64"
      ]
     },
     "execution_count": 18,
     "metadata": {},
     "output_type": "execute_result"
    }
   ],
   "source": [
    "sale_by_region = off_data.groupby(\"Region\")[\"Sales\"].sum()\n",
    "sale_by_region"
   ]
  },
  {
   "cell_type": "code",
   "execution_count": 19,
   "id": "9006520c",
   "metadata": {},
   "outputs": [],
   "source": [
    "max_sale_region = sale_by_region.idxmax()\n",
    "max_sale_amt_region = sale_by_region.max()"
   ]
  },
  {
   "cell_type": "code",
   "execution_count": 20,
   "id": "14e90bc3",
   "metadata": {},
   "outputs": [
    {
     "name": "stdout",
     "output_type": "stream",
     "text": [
      "Central is the region with max sale of amount = 11139.07\n"
     ]
    }
   ],
   "source": [
    "print(max_sale_region,\"is the region with max sale of amount =\",max_sale_amt_region)"
   ]
  },
  {
   "cell_type": "markdown",
   "id": "ffed48bf",
   "metadata": {},
   "source": [
    "   - What are the sales trends across different regions?"
   ]
  },
  {
   "cell_type": "code",
   "execution_count": 21,
   "id": "581e8eb1",
   "metadata": {},
   "outputs": [
    {
     "data": {
      "image/png": "[encoded data removed]",
      "text/plain": [
       "<Figure size 640x480 with 1 Axes>"
      ]
     },
     "metadata": {},
     "output_type": "display_data"
    }
   ],
   "source": [
    "Region_sale_trend = sale_by_region.plot(kind= \"bar\")\n",
    "plt.show()"
   ]
  },
  {
   "cell_type": "code",
   "execution_count": null,
   "id": "6e8d1a8e",
   "metadata": {},
   "outputs": [],
   "source": []
  }
 ],
 "metadata": {
  "kernelspec": {
   "display_name": "Python 3 (ipykernel)",
   "language": "python",
   "name": "python3"
  },
  "language_info": {
   "codemirror_mode": {
    "name": "ipython",
    "version": 3
   },
   "file_extension": ".py",
   "mimetype": "text/x-python",
   "name": "python",
   "nbconvert_exporter": "python",
   "pygments_lexer": "ipython3",
   "version": "3.9.13"
  }
 },
 "nbformat": 4,
 "nbformat_minor": 5
}
